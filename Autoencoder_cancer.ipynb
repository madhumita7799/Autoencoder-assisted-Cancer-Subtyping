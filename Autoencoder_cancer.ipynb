{
 "cells": [
  {
   "cell_type": "code",
   "execution_count": null,
   "id": "f033394e",
   "metadata": {},
   "outputs": [],
   "source": [
    "import os\n",
    "import numpy as np \n",
    "import pandas as pd \n",
    "\n",
    "from numpy.random import seed\n",
    "from sklearn.preprocessing import minmax_scale\n",
    "from sklearn.model_selection import train_test_split\n",
    "from keras.layers import Input, Dense\n",
    "from keras.models import Model\n",
    "from sklearn.preprocessing import StandardScaler\n",
    "from sklearn.preprocessing import MinMaxScaler\n",
    "from sklearn import preprocessing\n",
    "from keras import regularizers\n",
    "import tensorflow as tf"
   ]
  },
  {
   "cell_type": "code",
   "execution_count": null,
   "id": "f98d50ac",
   "metadata": {},
   "outputs": [],
   "source": [
    "cancer = pd.read_csv(\"Data_GBM/cox_GBM.csv\",index_col=0)\n",
    "data = cancer.transpose()\n",
    "X_train, X_val = train_test_split(data, test_size=0.2,random_state = seed(7))\n",
    "ncol = data.shape[1]"
   ]
  },
  {
   "cell_type": "code",
   "execution_count": null,
   "id": "04598190",
   "metadata": {},
   "outputs": [],
   "source": [
    "## gbm\n",
    "en_dim = [250,500,750,1000,1250,1500,1750,2000,2250]\n",
    "deco = [1250,1500,1750,2000,2250]"
   ]
  },
  {
   "cell_type": "code",
   "execution_count": null,
   "id": "b8b4a182",
   "metadata": {},
   "outputs": [],
   "source": [
    "## Undercomplete AE \n",
    "for x in en_dim:\n",
    "    for y in deco:\n",
    "        encoding_dim = x\n",
    "        input_dim = Input(shape = (ncol, ))\n",
    "        encoded1 = Dense(y, activation = 'tanh')(input_dim)\n",
    "        encoded2 = Dense(encoding_dim, activation = 'tanh')(encoded1)\n",
    "        decoded1 = Dense(y, activation = 'tanh')(encoded2)\n",
    "        decoded2 = Dense(ncol, activation = 'sigmoid')(decoded1)\n",
    "        autoencoder = Model(inputs = input_dim, outputs = decoded2)\n",
    "        autoencoder.compile(optimizer = 'adam', loss = 'mean_squared_error')\n",
    "        autoencoder.fit(X_train, X_train, epochs = 100, batch_size = 256, shuffle = False, validation_data = (X_val, X_val))\n",
    "        encoder = Model(inputs = input_dim, outputs = encoded2)\n",
    "        encoded_input = Input(shape = (encoding_dim, ))\n",
    "        encoded_train = pd.DataFrame(encoder.predict(data))\n",
    "        encoded_train.to_csv(\"Data_GBM/Results/undercomplete_gbm_\"+str(x)+\"_\"+str(y)+\".csv\",index=False)      "
   ]
  },
  {
   "cell_type": "code",
   "execution_count": null,
   "id": "7a566d92",
   "metadata": {},
   "outputs": [],
   "source": [
    "regu = [0.1,0.01,0.001,0.0001,0.00001,0.000001]\n",
    "X_train, X_test = train_test_split(data, train_size = 0.8, random_state = seed(1993))"
   ]
  },
  {
   "cell_type": "code",
   "execution_count": null,
   "id": "cd840725",
   "metadata": {},
   "outputs": [],
   "source": [
    "## Sparse AE\n",
    "for x in en_dim:\n",
    "    for y in deco:\n",
    "        for z in regu:\n",
    "            encoding_dim = x\n",
    "            encoded2 = Dense(y, activation = 'tanh',activity_regularizer=regularizers.l1(l1=z))(input_dim)\n",
    "            encoded3 = Dense(encoding_dim, activation = 'tanh')(encoded2)\n",
    "            decoded1 = Dense(y, activation = 'tanh',activity_regularizer=regularizers.l1(l1=z))(encoded3)\n",
    "            decoded2 = Dense(ncol, activation = 'sigmoid')(decoded1)\n",
    "            autoencoder = Model(inputs = input_dim, outputs = decoded2)\n",
    "            autoencoder.compile(optimizer = 'adam', loss = 'binary_crossentropy')\n",
    "            autoencoder.fit(X_train, X_train, epochs = 100, batch_size = 256, shuffle = False, validation_data = (X_test, X_test))\n",
    "            encoder = Model(inputs = input_dim, outputs = encoded3)\n",
    "            encoded_input = Input(shape = (encoding_dim, ))\n",
    "            encoded_train = pd.DataFrame(encoder.predict(data))\n",
    "            encoded_train.to_csv(\"Data_GBM/Results/sparse_gbm_\"+str(x)+\"_\"+str(y)+\"_\"+str(z)+\".csv\", index=False)"
   ]
  }
 ],
 "metadata": {
  "kernelspec": {
   "display_name": "Python 3 (ipykernel)",
   "language": "python",
   "name": "python3"
  },
  "language_info": {
   "codemirror_mode": {
    "name": "ipython",
    "version": 3
   },
   "file_extension": ".py",
   "mimetype": "text/x-python",
   "name": "python",
   "nbconvert_exporter": "python",
   "pygments_lexer": "ipython3",
   "version": "3.8.11"
  }
 },
 "nbformat": 4,
 "nbformat_minor": 5
}
